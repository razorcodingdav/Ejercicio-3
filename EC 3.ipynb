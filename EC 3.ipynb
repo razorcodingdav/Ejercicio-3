{
 "cells": [
  {
   "cell_type": "code",
   "execution_count": 3,
   "id": "ddd94a99",
   "metadata": {},
   "outputs": [
    {
     "name": "stdout",
     "output_type": "stream",
     "text": [
      "[1, 2, 3, 5, 7, 11, 13, 17, 19]\n"
     ]
    }
   ],
   "source": [
    "def esPrimo(l):\n",
    "    primos = []\n",
    "    for i in l:\n",
    "        p = 0\n",
    "        if i == 1:\n",
    "          primos.append(i)\n",
    "        else:\n",
    "          for j in range(1,i+1):\n",
    "            if i % j == 0:\n",
    "              p += 1\n",
    "          if p == 2:\n",
    "            primos.append(i)\n",
    "    return primos\n",
    " \n",
    "lista = [1,2,3,4,5,6,7,8,9,10,11,12,13,14,15,16,17,18,19,20]\n",
    "print(esPrimo(lista))\n"
   ]
  },
  {
   "cell_type": "code",
   "execution_count": 15,
   "id": "c0bb2531",
   "metadata": {},
   "outputs": [
    {
     "name": "stdout",
     "output_type": "stream",
     "text": [
      "La suma de los valores de los primos es 78\n"
     ]
    }
   ],
   "source": [
    "print('La suma de los valores de los primos es %d' %(sum(primos)))"
   ]
  },
  {
   "cell_type": "code",
   "execution_count": 11,
   "id": "2d9a70cd",
   "metadata": {},
   "outputs": [
    {
     "name": "stdout",
     "output_type": "stream",
     "text": [
      "4 no es primo\n",
      "6 no es primo\n",
      "8 no es primo\n",
      "9 no es primo\n",
      "10 no es primo\n",
      "12 no es primo\n",
      "14 no es primo\n",
      "15 no es primo\n",
      "16 no es primo\n",
      "18 no es primo\n",
      "20 no es primo\n"
     ]
    }
   ],
   "source": [
    "lista = [1,2,3,4,5,6,7,8,9,10,11,12,13,14,15,16,17,18,19,20]\n",
    "\n",
    "primos = [1, 2, 3, 5, 7, 11, 13, 17, 19]\n",
    "\n",
    "for numero in lista:\n",
    "    if  numero in primos:\n",
    "         continue\n",
    "    print(numero, \"no es primo\")\n",
    "   "
   ]
  },
  {
   "cell_type": "code",
   "execution_count": null,
   "id": "2ac1a9c2",
   "metadata": {},
   "outputs": [],
   "source": []
  }
 ],
 "metadata": {
  "kernelspec": {
   "display_name": "Python 3",
   "language": "python",
   "name": "python3"
  },
  "language_info": {
   "codemirror_mode": {
    "name": "ipython",
    "version": 3
   },
   "file_extension": ".py",
   "mimetype": "text/x-python",
   "name": "python",
   "nbconvert_exporter": "python",
   "pygments_lexer": "ipython3",
   "version": "3.9.1"
  }
 },
 "nbformat": 4,
 "nbformat_minor": 5
}
