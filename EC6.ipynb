{
 "cells": [
  {
   "cell_type": "markdown",
   "id": "51564512",
   "metadata": {},
   "source": [
    "   Altair también hace otros tipos de gráficos estadísticos. Por ejemplo un diagrama de caja o [_boxplot_](https://altair-viz.github.io/gallery/boxplot.html). Con el ejemplo del link y con la base de datos del IDH distrital de la T4, haz un diagrama de caja donde el eje x sea la variable dummy `Huancavelica`, el eje y, cualquier variable contínua (puedes modificar el width/ height para que el gráfico luzca mejor). "
   ]
  },
  {
   "cell_type": "code",
   "execution_count": null,
   "id": "cba3e794",
   "metadata": {},
   "outputs": [],
   "source": []
  }
 ],
 "metadata": {
  "kernelspec": {
   "display_name": "Python 3",
   "language": "python",
   "name": "python3"
  },
  "language_info": {
   "codemirror_mode": {
    "name": "ipython",
    "version": 3
   },
   "file_extension": ".py",
   "mimetype": "text/x-python",
   "name": "python",
   "nbconvert_exporter": "python",
   "pygments_lexer": "ipython3",
   "version": "3.7.7"
  }
 },
 "nbformat": 4,
 "nbformat_minor": 5
}
