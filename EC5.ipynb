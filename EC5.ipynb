{
 "cells": [
  {
   "cell_type": "markdown",
   "metadata": {},
   "source": [
    "# EC5"
   ]
  },
  {
   "cell_type": "markdown",
   "metadata": {},
   "source": [
    "1) Lee el archivo llamado \"penguins.csv\". Esta es una base de pingüinos de la Antártida que viven en diferentes islas y pertenecen a 3 tipos: Adelie, Gentoo y Chinstrap.\n",
    "\n",
    "(es una base muy adorable y pueden leer más sobre ella [aquí](https://allisonhorst.github.io/palmerpenguins/). Esta surgió como alternativa a la famosísima iris, publicada por primera vez en _Annals of Eugenics_ cuya infame historia se remonta a la defensa de la Eugenesia)."
   ]
  },
  {
   "cell_type": "code",
   "execution_count": null,
   "metadata": {},
   "outputs": [],
   "source": []
  },
  {
   "cell_type": "markdown",
   "metadata": {},
   "source": [
    "2) Elimina las observaciones que tienen valor perdido (_missing_) en `sex` y `body_mass_g`."
   ]
  },
  {
   "cell_type": "code",
   "execution_count": null,
   "metadata": {},
   "outputs": [],
   "source": []
  },
  {
   "cell_type": "markdown",
   "metadata": {},
   "source": [
    "3) Haz una tabulación cruzada en donde cuentes el número de pingüinos, por por especie, que hay en cada una de las islas. Este nuevo dataframe tendrá como filas a las especies (_species_) y las nuevas columnas, las islas (_island_). Usa `pivot_table`."
   ]
  },
  {
   "cell_type": "code",
   "execution_count": null,
   "metadata": {},
   "outputs": [],
   "source": []
  }
 ],
 "metadata": {
  "kernelspec": {
   "display_name": "Python 3",
   "language": "python",
   "name": "python3"
  },
  "language_info": {
   "codemirror_mode": {
    "name": "ipython",
    "version": 3
   },
   "file_extension": ".py",
   "mimetype": "text/x-python",
   "name": "python",
   "nbconvert_exporter": "python",
   "pygments_lexer": "ipython3",
   "version": "3.8.5"
  }
 },
 "nbformat": 4,
 "nbformat_minor": 4
}
